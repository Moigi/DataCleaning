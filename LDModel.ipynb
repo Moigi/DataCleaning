{
  "nbformat": 4,
  "nbformat_minor": 0,
  "metadata": {
    "colab": {
      "provenance": [],
      "collapsed_sections": [],
      "mount_file_id": "1dw3oT9lGYk1QDUa7wTOeP0yQ4J2ZwYSB",
      "authorship_tag": "ABX9TyMCE8M8W6dUpipmyombwkZy",
      "include_colab_link": true
    },
    "kernelspec": {
      "name": "python3",
      "display_name": "Python 3"
    },
    "language_info": {
      "name": "python"
    }
  },
  "cells": [
    {
      "cell_type": "markdown",
      "metadata": {
        "id": "view-in-github",
        "colab_type": "text"
      },
      "source": [
        "<a href=\"https://colab.research.google.com/github/Moigi/DataCleaning/blob/main/LDModel.ipynb\" target=\"_parent\"><img src=\"https://colab.research.google.com/assets/colab-badge.svg\" alt=\"Open In Colab\"/></a>"
      ]
    },
    {
      "cell_type": "code",
      "execution_count": null,
      "metadata": {
        "id": "7562u07UaiPI"
      },
      "outputs": [],
      "source": [
        "#Load the librarys\n",
        "import pandas as pd #To work with dataset\n",
        "import numpy as np #Math library\n",
        "import seaborn as sns #Graph library that use matplot in background\n",
        "import matplotlib.pyplot as plt #to plot some parameters in seaborn\n",
        "\n",
        "df=pd.read_csv('/content/drive/MyDrive/Data/loan_data.csv')"
      ]
    },
    {
      "cell_type": "code",
      "source": [
        "df1=df.drop(labels=['id','year','issue_d','final_d','region','emp_length_int'\n",
        ",'home_ownership','home_ownership_cat','income_category','income_cat','term',\n",
        "'term_cat','application_type','loan_condition_cat','grade','grade_cat','application_type_cat',\n",
        "'purpose','interest_payments','total_rec_prncp'],axis=1)\n",
        "df1.head()"
      ],
      "metadata": {
        "id": "uz4IvMwzfHwE",
        "colab": {
          "base_uri": "https://localhost:8080/",
          "height": 206
        },
        "outputId": "942bf74c-f304-44be-b41c-29ad97ebf1b7"
      },
      "execution_count": null,
      "outputs": [
        {
          "output_type": "execute_result",
          "data": {
            "text/plain": [
              "   annual_inc  loan_amount  purpose_cat  interest_payment_cat loan_condition  \\\n",
              "0       24000         5000            1                     1      Good Loan   \n",
              "1       30000         2500            2                     2       Bad Loan   \n",
              "2       12252         2400            3                     2      Good Loan   \n",
              "3       49200        10000            4                     2      Good Loan   \n",
              "4       80000         3000            4                     1      Good Loan   \n",
              "\n",
              "   interest_rate    dti   total_pymnt  recoveries  installment  \n",
              "0          10.65  27.65   5861.071414        0.00       162.87  \n",
              "1          15.27   1.00   1008.710000      117.08        59.83  \n",
              "2          15.96   8.72   3003.653644        0.00        84.33  \n",
              "3          13.49  20.00  12226.302210        0.00       339.31  \n",
              "4          12.69  17.94   3242.170000        0.00        67.79  "
            ],
            "text/html": [
              "\n",
              "  <div id=\"df-20b7f12a-b0ef-4795-b103-da2c25305552\">\n",
              "    <div class=\"colab-df-container\">\n",
              "      <div>\n",
              "<style scoped>\n",
              "    .dataframe tbody tr th:only-of-type {\n",
              "        vertical-align: middle;\n",
              "    }\n",
              "\n",
              "    .dataframe tbody tr th {\n",
              "        vertical-align: top;\n",
              "    }\n",
              "\n",
              "    .dataframe thead th {\n",
              "        text-align: right;\n",
              "    }\n",
              "</style>\n",
              "<table border=\"1\" class=\"dataframe\">\n",
              "  <thead>\n",
              "    <tr style=\"text-align: right;\">\n",
              "      <th></th>\n",
              "      <th>annual_inc</th>\n",
              "      <th>loan_amount</th>\n",
              "      <th>purpose_cat</th>\n",
              "      <th>interest_payment_cat</th>\n",
              "      <th>loan_condition</th>\n",
              "      <th>interest_rate</th>\n",
              "      <th>dti</th>\n",
              "      <th>total_pymnt</th>\n",
              "      <th>recoveries</th>\n",
              "      <th>installment</th>\n",
              "    </tr>\n",
              "  </thead>\n",
              "  <tbody>\n",
              "    <tr>\n",
              "      <th>0</th>\n",
              "      <td>24000</td>\n",
              "      <td>5000</td>\n",
              "      <td>1</td>\n",
              "      <td>1</td>\n",
              "      <td>Good Loan</td>\n",
              "      <td>10.65</td>\n",
              "      <td>27.65</td>\n",
              "      <td>5861.071414</td>\n",
              "      <td>0.00</td>\n",
              "      <td>162.87</td>\n",
              "    </tr>\n",
              "    <tr>\n",
              "      <th>1</th>\n",
              "      <td>30000</td>\n",
              "      <td>2500</td>\n",
              "      <td>2</td>\n",
              "      <td>2</td>\n",
              "      <td>Bad Loan</td>\n",
              "      <td>15.27</td>\n",
              "      <td>1.00</td>\n",
              "      <td>1008.710000</td>\n",
              "      <td>117.08</td>\n",
              "      <td>59.83</td>\n",
              "    </tr>\n",
              "    <tr>\n",
              "      <th>2</th>\n",
              "      <td>12252</td>\n",
              "      <td>2400</td>\n",
              "      <td>3</td>\n",
              "      <td>2</td>\n",
              "      <td>Good Loan</td>\n",
              "      <td>15.96</td>\n",
              "      <td>8.72</td>\n",
              "      <td>3003.653644</td>\n",
              "      <td>0.00</td>\n",
              "      <td>84.33</td>\n",
              "    </tr>\n",
              "    <tr>\n",
              "      <th>3</th>\n",
              "      <td>49200</td>\n",
              "      <td>10000</td>\n",
              "      <td>4</td>\n",
              "      <td>2</td>\n",
              "      <td>Good Loan</td>\n",
              "      <td>13.49</td>\n",
              "      <td>20.00</td>\n",
              "      <td>12226.302210</td>\n",
              "      <td>0.00</td>\n",
              "      <td>339.31</td>\n",
              "    </tr>\n",
              "    <tr>\n",
              "      <th>4</th>\n",
              "      <td>80000</td>\n",
              "      <td>3000</td>\n",
              "      <td>4</td>\n",
              "      <td>1</td>\n",
              "      <td>Good Loan</td>\n",
              "      <td>12.69</td>\n",
              "      <td>17.94</td>\n",
              "      <td>3242.170000</td>\n",
              "      <td>0.00</td>\n",
              "      <td>67.79</td>\n",
              "    </tr>\n",
              "  </tbody>\n",
              "</table>\n",
              "</div>\n",
              "      <button class=\"colab-df-convert\" onclick=\"convertToInteractive('df-20b7f12a-b0ef-4795-b103-da2c25305552')\"\n",
              "              title=\"Convert this dataframe to an interactive table.\"\n",
              "              style=\"display:none;\">\n",
              "        \n",
              "  <svg xmlns=\"http://www.w3.org/2000/svg\" height=\"24px\"viewBox=\"0 0 24 24\"\n",
              "       width=\"24px\">\n",
              "    <path d=\"M0 0h24v24H0V0z\" fill=\"none\"/>\n",
              "    <path d=\"M18.56 5.44l.94 2.06.94-2.06 2.06-.94-2.06-.94-.94-2.06-.94 2.06-2.06.94zm-11 1L8.5 8.5l.94-2.06 2.06-.94-2.06-.94L8.5 2.5l-.94 2.06-2.06.94zm10 10l.94 2.06.94-2.06 2.06-.94-2.06-.94-.94-2.06-.94 2.06-2.06.94z\"/><path d=\"M17.41 7.96l-1.37-1.37c-.4-.4-.92-.59-1.43-.59-.52 0-1.04.2-1.43.59L10.3 9.45l-7.72 7.72c-.78.78-.78 2.05 0 2.83L4 21.41c.39.39.9.59 1.41.59.51 0 1.02-.2 1.41-.59l7.78-7.78 2.81-2.81c.8-.78.8-2.07 0-2.86zM5.41 20L4 18.59l7.72-7.72 1.47 1.35L5.41 20z\"/>\n",
              "  </svg>\n",
              "      </button>\n",
              "      \n",
              "  <style>\n",
              "    .colab-df-container {\n",
              "      display:flex;\n",
              "      flex-wrap:wrap;\n",
              "      gap: 12px;\n",
              "    }\n",
              "\n",
              "    .colab-df-convert {\n",
              "      background-color: #E8F0FE;\n",
              "      border: none;\n",
              "      border-radius: 50%;\n",
              "      cursor: pointer;\n",
              "      display: none;\n",
              "      fill: #1967D2;\n",
              "      height: 32px;\n",
              "      padding: 0 0 0 0;\n",
              "      width: 32px;\n",
              "    }\n",
              "\n",
              "    .colab-df-convert:hover {\n",
              "      background-color: #E2EBFA;\n",
              "      box-shadow: 0px 1px 2px rgba(60, 64, 67, 0.3), 0px 1px 3px 1px rgba(60, 64, 67, 0.15);\n",
              "      fill: #174EA6;\n",
              "    }\n",
              "\n",
              "    [theme=dark] .colab-df-convert {\n",
              "      background-color: #3B4455;\n",
              "      fill: #D2E3FC;\n",
              "    }\n",
              "\n",
              "    [theme=dark] .colab-df-convert:hover {\n",
              "      background-color: #434B5C;\n",
              "      box-shadow: 0px 1px 3px 1px rgba(0, 0, 0, 0.15);\n",
              "      filter: drop-shadow(0px 1px 2px rgba(0, 0, 0, 0.3));\n",
              "      fill: #FFFFFF;\n",
              "    }\n",
              "  </style>\n",
              "\n",
              "      <script>\n",
              "        const buttonEl =\n",
              "          document.querySelector('#df-20b7f12a-b0ef-4795-b103-da2c25305552 button.colab-df-convert');\n",
              "        buttonEl.style.display =\n",
              "          google.colab.kernel.accessAllowed ? 'block' : 'none';\n",
              "\n",
              "        async function convertToInteractive(key) {\n",
              "          const element = document.querySelector('#df-20b7f12a-b0ef-4795-b103-da2c25305552');\n",
              "          const dataTable =\n",
              "            await google.colab.kernel.invokeFunction('convertToInteractive',\n",
              "                                                     [key], {});\n",
              "          if (!dataTable) return;\n",
              "\n",
              "          const docLinkHtml = 'Like what you see? Visit the ' +\n",
              "            '<a target=\"_blank\" href=https://colab.research.google.com/notebooks/data_table.ipynb>data table notebook</a>'\n",
              "            + ' to learn more about interactive tables.';\n",
              "          element.innerHTML = '';\n",
              "          dataTable['output_type'] = 'display_data';\n",
              "          await google.colab.output.renderOutput(dataTable, element);\n",
              "          const docLink = document.createElement('div');\n",
              "          docLink.innerHTML = docLinkHtml;\n",
              "          element.appendChild(docLink);\n",
              "        }\n",
              "      </script>\n",
              "    </div>\n",
              "  </div>\n",
              "  "
            ]
          },
          "metadata": {},
          "execution_count": 27
        }
      ]
    },
    {
      "cell_type": "code",
      "source": [
        "df1['loan_condition'].value_counts()"
      ],
      "metadata": {
        "id": "zUokQVX9eT_t",
        "colab": {
          "base_uri": "https://localhost:8080/"
        },
        "outputId": "1f7c30e5-0079-4dd0-9871-b2a151e59d47"
      },
      "execution_count": 52,
      "outputs": [
        {
          "output_type": "execute_result",
          "data": {
            "text/plain": [
              "Good Loan    1077845\n",
              "Bad Loan      293523\n",
              "Name: loan_condition, dtype: int64"
            ]
          },
          "metadata": {},
          "execution_count": 52
        }
      ]
    },
    {
      "cell_type": "code",
      "source": [
        "from sklearn.preprocessing import OrdinalEncoder\n",
        "ord_enc=OrdinalEncoder()\n",
        "df1['loan_condition'] = ord_enc.fit_transform(df1[['loan_condition']])\n",
        "df2=df1.drop(df1.loan_condition)"
      ],
      "metadata": {
        "id": "wJDNWpvBeBhV"
      },
      "execution_count": 53,
      "outputs": []
    },
    {
      "cell_type": "code",
      "source": [
        "df2.head()"
      ],
      "metadata": {
        "id": "CcrrcybKbvHb",
        "colab": {
          "base_uri": "https://localhost:8080/",
          "height": 250
        },
        "outputId": "4a036aff-9fdd-4a5e-aa33-e40c9684aabe"
      },
      "execution_count": 54,
      "outputs": [
        {
          "output_type": "execute_result",
          "data": {
            "text/plain": [
              "   annual_inc  loan_amount  purpose_cat  interest_payment_cat  loan_condition  \\\n",
              "2       12252         2400            3                     2             1.0   \n",
              "3       49200        10000            4                     2             1.0   \n",
              "4       80000         3000            4                     1             1.0   \n",
              "5       36000         5000            5                     1             1.0   \n",
              "6       47004         7000            6                     2             1.0   \n",
              "\n",
              "   interest_rate    dti   total_pymnt  recoveries  installment  \n",
              "2          15.96   8.72   3003.653644         0.0        84.33  \n",
              "3          13.49  20.00  12226.302210         0.0       339.31  \n",
              "4          12.69  17.94   3242.170000         0.0        67.79  \n",
              "5           7.90  11.20   5631.377753         0.0       156.46  \n",
              "6          15.96  23.51   8136.840000         0.0       170.08  "
            ],
            "text/html": [
              "\n",
              "  <div id=\"df-fce9fec3-bea6-4af2-ad2e-1cdfd7cf546c\">\n",
              "    <div class=\"colab-df-container\">\n",
              "      <div>\n",
              "<style scoped>\n",
              "    .dataframe tbody tr th:only-of-type {\n",
              "        vertical-align: middle;\n",
              "    }\n",
              "\n",
              "    .dataframe tbody tr th {\n",
              "        vertical-align: top;\n",
              "    }\n",
              "\n",
              "    .dataframe thead th {\n",
              "        text-align: right;\n",
              "    }\n",
              "</style>\n",
              "<table border=\"1\" class=\"dataframe\">\n",
              "  <thead>\n",
              "    <tr style=\"text-align: right;\">\n",
              "      <th></th>\n",
              "      <th>annual_inc</th>\n",
              "      <th>loan_amount</th>\n",
              "      <th>purpose_cat</th>\n",
              "      <th>interest_payment_cat</th>\n",
              "      <th>loan_condition</th>\n",
              "      <th>interest_rate</th>\n",
              "      <th>dti</th>\n",
              "      <th>total_pymnt</th>\n",
              "      <th>recoveries</th>\n",
              "      <th>installment</th>\n",
              "    </tr>\n",
              "  </thead>\n",
              "  <tbody>\n",
              "    <tr>\n",
              "      <th>2</th>\n",
              "      <td>12252</td>\n",
              "      <td>2400</td>\n",
              "      <td>3</td>\n",
              "      <td>2</td>\n",
              "      <td>1.0</td>\n",
              "      <td>15.96</td>\n",
              "      <td>8.72</td>\n",
              "      <td>3003.653644</td>\n",
              "      <td>0.0</td>\n",
              "      <td>84.33</td>\n",
              "    </tr>\n",
              "    <tr>\n",
              "      <th>3</th>\n",
              "      <td>49200</td>\n",
              "      <td>10000</td>\n",
              "      <td>4</td>\n",
              "      <td>2</td>\n",
              "      <td>1.0</td>\n",
              "      <td>13.49</td>\n",
              "      <td>20.00</td>\n",
              "      <td>12226.302210</td>\n",
              "      <td>0.0</td>\n",
              "      <td>339.31</td>\n",
              "    </tr>\n",
              "    <tr>\n",
              "      <th>4</th>\n",
              "      <td>80000</td>\n",
              "      <td>3000</td>\n",
              "      <td>4</td>\n",
              "      <td>1</td>\n",
              "      <td>1.0</td>\n",
              "      <td>12.69</td>\n",
              "      <td>17.94</td>\n",
              "      <td>3242.170000</td>\n",
              "      <td>0.0</td>\n",
              "      <td>67.79</td>\n",
              "    </tr>\n",
              "    <tr>\n",
              "      <th>5</th>\n",
              "      <td>36000</td>\n",
              "      <td>5000</td>\n",
              "      <td>5</td>\n",
              "      <td>1</td>\n",
              "      <td>1.0</td>\n",
              "      <td>7.90</td>\n",
              "      <td>11.20</td>\n",
              "      <td>5631.377753</td>\n",
              "      <td>0.0</td>\n",
              "      <td>156.46</td>\n",
              "    </tr>\n",
              "    <tr>\n",
              "      <th>6</th>\n",
              "      <td>47004</td>\n",
              "      <td>7000</td>\n",
              "      <td>6</td>\n",
              "      <td>2</td>\n",
              "      <td>1.0</td>\n",
              "      <td>15.96</td>\n",
              "      <td>23.51</td>\n",
              "      <td>8136.840000</td>\n",
              "      <td>0.0</td>\n",
              "      <td>170.08</td>\n",
              "    </tr>\n",
              "  </tbody>\n",
              "</table>\n",
              "</div>\n",
              "      <button class=\"colab-df-convert\" onclick=\"convertToInteractive('df-fce9fec3-bea6-4af2-ad2e-1cdfd7cf546c')\"\n",
              "              title=\"Convert this dataframe to an interactive table.\"\n",
              "              style=\"display:none;\">\n",
              "        \n",
              "  <svg xmlns=\"http://www.w3.org/2000/svg\" height=\"24px\"viewBox=\"0 0 24 24\"\n",
              "       width=\"24px\">\n",
              "    <path d=\"M0 0h24v24H0V0z\" fill=\"none\"/>\n",
              "    <path d=\"M18.56 5.44l.94 2.06.94-2.06 2.06-.94-2.06-.94-.94-2.06-.94 2.06-2.06.94zm-11 1L8.5 8.5l.94-2.06 2.06-.94-2.06-.94L8.5 2.5l-.94 2.06-2.06.94zm10 10l.94 2.06.94-2.06 2.06-.94-2.06-.94-.94-2.06-.94 2.06-2.06.94z\"/><path d=\"M17.41 7.96l-1.37-1.37c-.4-.4-.92-.59-1.43-.59-.52 0-1.04.2-1.43.59L10.3 9.45l-7.72 7.72c-.78.78-.78 2.05 0 2.83L4 21.41c.39.39.9.59 1.41.59.51 0 1.02-.2 1.41-.59l7.78-7.78 2.81-2.81c.8-.78.8-2.07 0-2.86zM5.41 20L4 18.59l7.72-7.72 1.47 1.35L5.41 20z\"/>\n",
              "  </svg>\n",
              "      </button>\n",
              "      \n",
              "  <style>\n",
              "    .colab-df-container {\n",
              "      display:flex;\n",
              "      flex-wrap:wrap;\n",
              "      gap: 12px;\n",
              "    }\n",
              "\n",
              "    .colab-df-convert {\n",
              "      background-color: #E8F0FE;\n",
              "      border: none;\n",
              "      border-radius: 50%;\n",
              "      cursor: pointer;\n",
              "      display: none;\n",
              "      fill: #1967D2;\n",
              "      height: 32px;\n",
              "      padding: 0 0 0 0;\n",
              "      width: 32px;\n",
              "    }\n",
              "\n",
              "    .colab-df-convert:hover {\n",
              "      background-color: #E2EBFA;\n",
              "      box-shadow: 0px 1px 2px rgba(60, 64, 67, 0.3), 0px 1px 3px 1px rgba(60, 64, 67, 0.15);\n",
              "      fill: #174EA6;\n",
              "    }\n",
              "\n",
              "    [theme=dark] .colab-df-convert {\n",
              "      background-color: #3B4455;\n",
              "      fill: #D2E3FC;\n",
              "    }\n",
              "\n",
              "    [theme=dark] .colab-df-convert:hover {\n",
              "      background-color: #434B5C;\n",
              "      box-shadow: 0px 1px 3px 1px rgba(0, 0, 0, 0.15);\n",
              "      filter: drop-shadow(0px 1px 2px rgba(0, 0, 0, 0.3));\n",
              "      fill: #FFFFFF;\n",
              "    }\n",
              "  </style>\n",
              "\n",
              "      <script>\n",
              "        const buttonEl =\n",
              "          document.querySelector('#df-fce9fec3-bea6-4af2-ad2e-1cdfd7cf546c button.colab-df-convert');\n",
              "        buttonEl.style.display =\n",
              "          google.colab.kernel.accessAllowed ? 'block' : 'none';\n",
              "\n",
              "        async function convertToInteractive(key) {\n",
              "          const element = document.querySelector('#df-fce9fec3-bea6-4af2-ad2e-1cdfd7cf546c');\n",
              "          const dataTable =\n",
              "            await google.colab.kernel.invokeFunction('convertToInteractive',\n",
              "                                                     [key], {});\n",
              "          if (!dataTable) return;\n",
              "\n",
              "          const docLinkHtml = 'Like what you see? Visit the ' +\n",
              "            '<a target=\"_blank\" href=https://colab.research.google.com/notebooks/data_table.ipynb>data table notebook</a>'\n",
              "            + ' to learn more about interactive tables.';\n",
              "          element.innerHTML = '';\n",
              "          dataTable['output_type'] = 'display_data';\n",
              "          await google.colab.output.renderOutput(dataTable, element);\n",
              "          const docLink = document.createElement('div');\n",
              "          docLink.innerHTML = docLinkHtml;\n",
              "          element.appendChild(docLink);\n",
              "        }\n",
              "      </script>\n",
              "    </div>\n",
              "  </div>\n",
              "  "
            ]
          },
          "metadata": {},
          "execution_count": 54
        }
      ]
    },
    {
      "cell_type": "code",
      "source": [
        "from imblearn.over_sampling import RandomOverSampler\n",
        "\n",
        "ros = RandomOverSampler(random_state=42)\n",
        "\n",
        "x = df1.loc[:, df1.columns != 'loan_condition']\n",
        "y = df1.loc[:, df1.columns == 'loan_condition']\n",
        "\n",
        "x, y = ros.fit_resample(x, y)"
      ],
      "metadata": {
        "id": "ouTO8UAJYZZu"
      },
      "execution_count": 75,
      "outputs": []
    },
    {
      "cell_type": "code",
      "source": [
        "from sklearn.linear_model import LogisticRegression\n",
        "from sklearn import metrics\n",
        "X_train, X_test, y_train, y_test = train_test_split(x, y, test_size=0.30, \n",
        "random_state=42)\n",
        "logreg = LogisticRegression()\n",
        "logreg.fit(X_train, y_train)"
      ],
      "metadata": {
        "id": "WL6JcL1LXHeA",
        "outputId": "5c6b20ef-efc7-4a70-b06d-1c4874f230e5",
        "colab": {
          "base_uri": "https://localhost:8080/"
        }
      },
      "execution_count": 77,
      "outputs": [
        {
          "output_type": "stream",
          "name": "stderr",
          "text": [
            "/usr/local/lib/python3.7/dist-packages/sklearn/utils/validation.py:993: DataConversionWarning: A column-vector y was passed when a 1d array was expected. Please change the shape of y to (n_samples, ), for example using ravel().\n",
            "  y = column_or_1d(y, warn=True)\n"
          ]
        },
        {
          "output_type": "execute_result",
          "data": {
            "text/plain": [
              "LogisticRegression()"
            ]
          },
          "metadata": {},
          "execution_count": 77
        }
      ]
    },
    {
      "cell_type": "code",
      "source": [
        "from sklearn.metrics import accuracy_score\n",
        "y_pred = logreg.predict(X_test)\n",
        "print('Accuracy of logistic regression classifier on test set: {:.2f}'.format(accuracy_score(y_test, y_pred)))"
      ],
      "metadata": {
        "id": "FnZJYoUaerS_",
        "outputId": "51e987ef-f856-42c6-daa7-fe6ed4e3393f",
        "colab": {
          "base_uri": "https://localhost:8080/"
        }
      },
      "execution_count": 79,
      "outputs": [
        {
          "output_type": "stream",
          "name": "stdout",
          "text": [
            "Accuracy of logistic regression classifier on test set: 0.70\n"
          ]
        }
      ]
    },
    {
      "cell_type": "code",
      "source": [
        "from sklearn.metrics import classification_report\n",
        "print(classification_report(y_test, y_pred))"
      ],
      "metadata": {
        "id": "4KqAia7Tei0e",
        "outputId": "eebeb249-4db5-48cf-8624-9540780c3939",
        "colab": {
          "base_uri": "https://localhost:8080/"
        }
      },
      "execution_count": 80,
      "outputs": [
        {
          "output_type": "stream",
          "name": "stdout",
          "text": [
            "              precision    recall  f1-score   support\n",
            "\n",
            "         0.0       0.74      0.61      0.67    323495\n",
            "         1.0       0.67      0.79      0.72    323212\n",
            "\n",
            "    accuracy                           0.70    646707\n",
            "   macro avg       0.71      0.70      0.70    646707\n",
            "weighted avg       0.71      0.70      0.70    646707\n",
            "\n"
          ]
        }
      ]
    }
  ]
}